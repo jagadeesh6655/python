{
  "nbformat": 4,
  "nbformat_minor": 0,
  "metadata": {
    "colab": {
      "name": "tuples.ipynb",
      "provenance": [],
      "authorship_tag": "ABX9TyMYYehqPrrJ1uZuJDNd9V/s",
      "include_colab_link": true
    },
    "kernelspec": {
      "name": "python3",
      "display_name": "Python 3"
    },
    "language_info": {
      "name": "python"
    }
  },
  "cells": [
    {
      "cell_type": "markdown",
      "metadata": {
        "id": "view-in-github",
        "colab_type": "text"
      },
      "source": [
        "<a href=\"https://colab.research.google.com/github/jagadeesh6655/python/blob/main/tuples.ipynb\" target=\"_parent\"><img src=\"https://colab.research.google.com/assets/colab-badge.svg\" alt=\"Open In Colab\"/></a>"
      ]
    },
    {
      "cell_type": "code",
      "execution_count": 4,
      "metadata": {
        "id": "zzim7bquYsXO",
        "colab": {
          "base_uri": "https://localhost:8080/"
        },
        "outputId": "706a5ce3-713c-44e4-b32f-2464067e03ad"
      },
      "outputs": [
        {
          "output_type": "stream",
          "name": "stdout",
          "text": [
            "<class 'tuple'>\n",
            "<class 'str'>\n"
          ]
        }
      ],
      "source": [
        "a=(\"orange\",)\n",
        "print(type(a))\n",
        "\n",
        "#NOT a tuple\n",
        "a=(\"orange\")\n",
        "print(type(a))"
      ]
    },
    {
      "cell_type": "code",
      "source": [
        "\n",
        "tuple1 = (\"rohit\", \"rahul\", \"dhawan\")\n",
        "tuple2 = (1, 5, 7, 9, 3)\n",
        "tuple3 = (True, False, False)\n",
        "\n",
        "print(tuple1)\n",
        "print(tuple2)\n",
        "print(tuple3)\n"
      ],
      "metadata": {
        "colab": {
          "base_uri": "https://localhost:8080/"
        },
        "id": "CkmoMhMXxmek",
        "outputId": "b39831d1-ed32-4f5d-914d-b6f88870beac"
      },
      "execution_count": 8,
      "outputs": [
        {
          "output_type": "stream",
          "name": "stdout",
          "text": [
            "('rohit', 'rahul', 'dhawan')\n",
            "(1, 5, 7, 9, 3)\n",
            "(True, False, False)\n"
          ]
        }
      ]
    },
    {
      "cell_type": "code",
      "source": [
        "a= (\"blue\",\"green\",\"yellow\",\"orange\",\"red\")\n",
        "print(a[:3])"
      ],
      "metadata": {
        "colab": {
          "base_uri": "https://localhost:8080/"
        },
        "id": "N-Z0YfWOzIaa",
        "outputId": "c08339c9-053f-4017-bb5f-a4769263d633"
      },
      "execution_count": 9,
      "outputs": [
        {
          "output_type": "stream",
          "name": "stdout",
          "text": [
            "('blue', 'green', 'yellow')\n"
          ]
        }
      ]
    },
    {
      "cell_type": "code",
      "source": [
        "a= (\"blue\",\"green\",\"yellow\",\"orange\",\"red\")\n",
        "print(a[2:])"
      ],
      "metadata": {
        "colab": {
          "base_uri": "https://localhost:8080/"
        },
        "id": "zxxdEUDSz-8-",
        "outputId": "82dbf4ae-24fd-4292-ae3f-96876f45bda7"
      },
      "execution_count": 10,
      "outputs": [
        {
          "output_type": "stream",
          "name": "stdout",
          "text": [
            "('yellow', 'orange', 'red')\n"
          ]
        }
      ]
    },
    {
      "cell_type": "code",
      "source": [
        "a= (\"blue\",\"green\",\"yellow\",\"orange\",\"red\",\"brown\",\"skyblue\")\n",
        "print(a[-5:-2])"
      ],
      "metadata": {
        "colab": {
          "base_uri": "https://localhost:8080/"
        },
        "id": "Otcs4-Mqz2Vv",
        "outputId": "c09f4c7d-c921-4b5a-84b5-525da86bd259"
      },
      "execution_count": 13,
      "outputs": [
        {
          "output_type": "stream",
          "name": "stdout",
          "text": [
            "('yellow', 'orange', 'red')\n"
          ]
        }
      ]
    },
    {
      "cell_type": "code",
      "source": [
        "##check orange is present in the tuple\n",
        "a= (\"blue\",\"green\",\"yellow\",\"orange\",\"red\")\n",
        "if \"orange\" in a:\n",
        "    print(\"yes,'orange' is in the given tuple\")"
      ],
      "metadata": {
        "colab": {
          "base_uri": "https://localhost:8080/"
        },
        "id": "kVcSJcxs0r4w",
        "outputId": "9fd765f5-c5c4-492a-bcbb-9a0ef74d006b"
      },
      "execution_count": 14,
      "outputs": [
        {
          "output_type": "stream",
          "name": "stdout",
          "text": [
            "yes,'orange' is in the given tuple\n"
          ]
        }
      ]
    },
    {
      "cell_type": "code",
      "source": [
        "a =(\"blue\",\"green\",\"yellow\",\"red\")\n",
        "y = list(a)\n",
        "y.append(\"orange\")\n",
        "a = tuple(y)\n",
        "\n",
        "print(a)\n",
        "\n"
      ],
      "metadata": {
        "colab": {
          "base_uri": "https://localhost:8080/"
        },
        "id": "8_kFKY8H2CEg",
        "outputId": "16a2e496-db4d-40f3-f208-69e75d09a70f"
      },
      "execution_count": 19,
      "outputs": [
        {
          "output_type": "stream",
          "name": "stdout",
          "text": [
            "('blue', 'green', 'yellow', 'red', 'orange')\n"
          ]
        }
      ]
    },
    {
      "cell_type": "code",
      "source": [
        "a=(\"blue\",\"green\",\"yellow\",\"red\")\n",
        "y = (\"orange\",)\n",
        "a += y\n",
        "\n",
        "print(a)"
      ],
      "metadata": {
        "colab": {
          "base_uri": "https://localhost:8080/"
        },
        "id": "brR46Vjm2r56",
        "outputId": "c701b4ea-0e17-467a-dded-202493ce3be5"
      },
      "execution_count": 21,
      "outputs": [
        {
          "output_type": "stream",
          "name": "stdout",
          "text": [
            "('blue', 'green', 'yellow', 'red', 'orange')\n"
          ]
        }
      ]
    },
    {
      "cell_type": "code",
      "source": [
        "a =(\"blue\",\"green\",\"yellow\",\"red\")\n",
        "y = list(a)\n",
        "y.remove(\"yellow\")\n",
        "a = tuple(y)\n",
        "\n",
        "print(a)\n"
      ],
      "metadata": {
        "colab": {
          "base_uri": "https://localhost:8080/"
        },
        "id": "8ehEwZM33E5c",
        "outputId": "4febd1f6-76f8-4870-c4bf-c6560e82c8c1"
      },
      "execution_count": 22,
      "outputs": [
        {
          "output_type": "stream",
          "name": "stdout",
          "text": [
            "('blue', 'green', 'red')\n"
          ]
        }
      ]
    },
    {
      "cell_type": "code",
      "source": [
        "a =(\"blue\",\"green\",\"yellow\")\n",
        "\n",
        "(apple, banana, orange) =  a \n",
        "\n",
        "print(apple)\n",
        "print(banana)\n",
        "print(orange)"
      ],
      "metadata": {
        "colab": {
          "base_uri": "https://localhost:8080/"
        },
        "id": "xBdX9zss3ebX",
        "outputId": "b51c208f-6a79-442f-ff20-579a446ef024"
      },
      "execution_count": 29,
      "outputs": [
        {
          "output_type": "stream",
          "name": "stdout",
          "text": [
            "blue\n",
            "green\n",
            "yellow\n"
          ]
        }
      ]
    },
    {
      "cell_type": "code",
      "source": [
        "a= (\"blue\",\"green\",\"yellow\",\"orange\",\"red\",\"brown\",\"skyblue\")\n",
        "(apple, banana, *orange) =  a \n",
        "print(apple)\n",
        "print(banana)\n",
        "print(orange)"
      ],
      "metadata": {
        "colab": {
          "base_uri": "https://localhost:8080/"
        },
        "id": "QtU8q_SO4n-M",
        "outputId": "73b7ade4-a621-42a7-c974-30880bb256cc"
      },
      "execution_count": 30,
      "outputs": [
        {
          "output_type": "stream",
          "name": "stdout",
          "text": [
            "blue\n",
            "green\n",
            "['yellow', 'orange', 'red', 'brown', 'skyblue']\n"
          ]
        }
      ]
    },
    {
      "cell_type": "code",
      "source": [
        "a= (\"blue\",\"green\",\"yellow\",\"orange\",\"red\",\"brown\",\"skyblue\")\n",
        "for i in range(len(a)):\n",
        "  print(a[i])"
      ],
      "metadata": {
        "colab": {
          "base_uri": "https://localhost:8080/"
        },
        "id": "ziCIrled4QRz",
        "outputId": "cf01cb6e-b8c5-402b-cdac-1c8156ca1b30"
      },
      "execution_count": 34,
      "outputs": [
        {
          "output_type": "stream",
          "name": "stdout",
          "text": [
            "blue\n",
            "green\n",
            "yellow\n",
            "orange\n",
            "red\n",
            "brown\n",
            "skyblue\n"
          ]
        }
      ]
    },
    {
      "cell_type": "code",
      "source": [
        ""
      ],
      "metadata": {
        "id": "2jrU4U8j8oPn"
      },
      "execution_count": null,
      "outputs": []
    }
  ]
}