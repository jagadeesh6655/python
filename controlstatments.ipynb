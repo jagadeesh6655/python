{
  "nbformat": 4,
  "nbformat_minor": 0,
  "metadata": {
    "colab": {
      "name": "controlstatments.ipynb",
      "provenance": [],
      "collapsed_sections": [],
      "authorship_tag": "ABX9TyMJ4G2niTZyDXCmRQcXC38s",
      "include_colab_link": true
    },
    "kernelspec": {
      "name": "python3",
      "display_name": "Python 3"
    },
    "language_info": {
      "name": "python"
    }
  },
  "cells": [
    {
      "cell_type": "markdown",
      "metadata": {
        "id": "view-in-github",
        "colab_type": "text"
      },
      "source": [
        "<a href=\"https://colab.research.google.com/github/jagadeesh6655/python/blob/main/controlstatments.ipynb\" target=\"_parent\"><img src=\"https://colab.research.google.com/assets/colab-badge.svg\" alt=\"Open In Colab\"/></a>"
      ]
    },
    {
      "cell_type": "code",
      "execution_count": null,
      "metadata": {
        "colab": {
          "base_uri": "https://localhost:8080/"
        },
        "id": "Xe_j6JSSpYFz",
        "outputId": "a7495c05-21c9-407d-89ad-f3394737441d"
      },
      "outputs": [
        {
          "output_type": "stream",
          "name": "stdout",
          "text": [
            "you are not eligible\n"
          ]
        }
      ],
      "source": [
        "a=15\n",
        "if a>18:\n",
        "      print(\"you are eligible for voting\")\n",
        "else:\n",
        "       print(\"you are not eligible\")"
      ]
    },
    {
      "cell_type": "code",
      "source": [
        "a=int(input(\"enter your age\"))\n",
        "if a>18:\n",
        "         print(\"you are eligible for voting\")\n",
        "else:\n",
        "      print(\"you are not eligible for voting\")\n",
        "      \n",
        "      "
      ],
      "metadata": {
        "colab": {
          "base_uri": "https://localhost:8080/"
        },
        "id": "SwDBi7SqqTYl",
        "outputId": "d69d42b9-12ff-4817-df13-8627a02fcb1a"
      },
      "execution_count": null,
      "outputs": [
        {
          "output_type": "stream",
          "name": "stdout",
          "text": [
            "enter your age13\n",
            "you are not eligible for voting\n"
          ]
        }
      ]
    },
    {
      "cell_type": "code",
      "source": [
        "#greatest among three numbers\n",
        "a=int(input(\"enter the number\"))\n",
        "b=int(input(\"enter the number\"))\n",
        "c=int(input(\"enter the number\"))\n",
        "if a>b and a>c:\n",
        "                    print(\"a is greater\")\n",
        "elif b>a and b>c:\n",
        "                   print(\"b is greater\")\n",
        "else:\n",
        "                   print(\"c is greater\")"
      ],
      "metadata": {
        "colab": {
          "base_uri": "https://localhost:8080/"
        },
        "id": "OE-Rbh3osS3y",
        "outputId": "01d2cbbc-9fed-4019-e312-a8f0a25b9cf4"
      },
      "execution_count": null,
      "outputs": [
        {
          "output_type": "stream",
          "name": "stdout",
          "text": [
            "enter the number10\n",
            "enter the number2\n",
            "enter the number99\n",
            "c is greater\n"
          ]
        }
      ]
    },
    {
      "cell_type": "code",
      "source": [
        "a=int(input(\"a)enter the number\"))\n",
        "b=int(input(\"b)enter the number\"))\n",
        "c=int(input(\"c)enter the number\"))\n",
        "d=int(input(\"d)enter the number\"))\n",
        "e=int(input(\"e)enter the number\"))\n",
        "if a>b and a>c and a>d and a>e :\n",
        "                                   print(\"a is greater\")\n",
        "elif b>a and b>c and b>d and b>e:\n",
        "                                   print(\"b is greater\")\n",
        "elif c>a and c>b and c>d and c>e:\n",
        "                                  print(\"c is greater\")\n",
        "elif d>a and d>b and d>c and d>e:\n",
        "                                  print(\"d is greater\")\n",
        "else:\n",
        "                                  print(\"e is greater\")\n"
      ],
      "metadata": {
        "colab": {
          "base_uri": "https://localhost:8080/"
        },
        "id": "TNDkVigYuzjC",
        "outputId": "dd10880e-20c2-4d59-e82a-0b5d102eaa5f"
      },
      "execution_count": null,
      "outputs": [
        {
          "output_type": "stream",
          "name": "stdout",
          "text": [
            "a)enter the number10\n",
            "b)enter the number11\n",
            "c)enter the number41\n",
            "d)enter the number6\n",
            "e)enter the number39\n",
            "c is greater\n"
          ]
        }
      ]
    },
    {
      "cell_type": "code",
      "source": [
        "##equlateral or isoscles or scalene\n",
        "print(\"input the lengths of triangle sides: \")\n",
        "a = int(input(\"a: \"))\n",
        "b= int(input(\"b: \"))\n",
        "c= int(input(\"c: \"))\n",
        "\n",
        "if a == b == c:\n",
        "\t              print(\"Equilateral triangle\")\n",
        "elif a==b or b==c or c==a:\n",
        "\t             print(\"isosceles triangle\")\n",
        "else:\n",
        "\t                 print(\"Scalene triangle\")\n"
      ],
      "metadata": {
        "colab": {
          "base_uri": "https://localhost:8080/"
        },
        "id": "9J3GhIUx54hl",
        "outputId": "5b72c731-09d5-469a-97a4-50506bdd5ae2"
      },
      "execution_count": 1,
      "outputs": [
        {
          "output_type": "stream",
          "name": "stdout",
          "text": [
            "input the lengths of triangle sides: \n",
            "a: 11\n",
            "b: 11\n",
            "c: 11\n",
            "Equilateral triangle\n"
          ]
        }
      ]
    },
    {
      "cell_type": "code",
      "source": [
        "##leap year or not\n",
        "year = int(input(\"Enter Year: \"))\n",
        "if year % 4 == 0 and year % 100 != 0:\n",
        "    print(\"it is a Leap Year\")\n",
        "elif year % 100 == 0:\n",
        "      print(\"it is not a Leap Year\")\n",
        "elif year % 400 ==0:\n",
        "      print(\"it is a Leap Year\")\n",
        "else:\n",
        "      print(\"it is not a Leap Year\")"
      ],
      "metadata": {
        "colab": {
          "base_uri": "https://localhost:8080/"
        },
        "id": "AsSwxdGNRS50",
        "outputId": "0c48989e-c962-442c-a106-71794262ccf5"
      },
      "execution_count": 4,
      "outputs": [
        {
          "output_type": "stream",
          "name": "stdout",
          "text": [
            "Enter Year: 1999\n",
            "it is not a Leap Year\n"
          ]
        }
      ]
    },
    {
      "cell_type": "code",
      "source": [
        "##minimum among three numbers\n",
        "a = int(input(\"Enter first number  : \"))\n",
        "b = int(input(\"Enter second number : \"))\n",
        "c = int(input(\"Enter third number  : \"))\n",
        "\n",
        "if a<b and a<c:\n",
        "                 print(\"a is minimum\")\n",
        "if b<c and b<a:\n",
        "                  print(\"b is minimum\")\n",
        "if c<a and c<b:\n",
        "                 print(\"c is minimum\")"
      ],
      "metadata": {
        "colab": {
          "base_uri": "https://localhost:8080/"
        },
        "id": "xJ7EWMHBSuPt",
        "outputId": "17a828d9-fa68-4752-8f51-63180e42c229"
      },
      "execution_count": 5,
      "outputs": [
        {
          "output_type": "stream",
          "name": "stdout",
          "text": [
            "Enter first number  : 6\n",
            "Enter second number : 2\n",
            "Enter third number  : 11\n",
            "b is minimum\n"
          ]
        }
      ]
    },
    {
      "cell_type": "code",
      "source": [
        "##divisible by 5 and 11\n",
        "number = int(input(\" Please Enter any  Integer : \"))\n",
        "\n",
        "if((number % 5 == 0) and (number % 11 == 0)):\n",
        "    print(\"Given Number  Divisible by 5 and 11\")\n",
        "else:\n",
        "      print(\"Given Number is Not Divisible by 5 and 11\")"
      ],
      "metadata": {
        "colab": {
          "base_uri": "https://localhost:8080/"
        },
        "id": "nDnf0CehUr4j",
        "outputId": "21a2c96e-3600-4b87-c97b-5a8e408a293e"
      },
      "execution_count": 8,
      "outputs": [
        {
          "output_type": "stream",
          "name": "stdout",
          "text": [
            " Please Enter any  Integer : 55\n",
            "Given Number  Divisible by 5 and 11\n"
          ]
        }
      ]
    }
  ]
}